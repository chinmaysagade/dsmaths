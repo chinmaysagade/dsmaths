{
  "cells": [
    {
      "metadata": {},
      "cell_type": "markdown",
      "source": "## Numpy\nNumpy is used for scientific computing.It provides data structures and functions which are efficint in doing numerical computations.  \nNumpy consits of different sub-modules tacking different sets of computations,like:core,lib,linalg, fft etc.  \nNumpy has two fundamental objects, ndarray and ufunc.  \n**ndarray** stands for n-dimensional array, which in turn is a collection of **same data type**.  \nThe reason we need arrays is because vectors, matrices and tensors , all are programatically represented as arrays.\n"
    },
    {
      "metadata": {
        "collapsed": true,
        "trusted": false
      },
      "cell_type": "code",
      "source": "import numpy as np",
      "execution_count": 1,
      "outputs": []
    },
    {
      "metadata": {
        "trusted": false
      },
      "cell_type": "code",
      "source": "random_x = np.random.random()\nprint(random_x)\nprint(type(random_x))",
      "execution_count": 2,
      "outputs": [
        {
          "name": "stdout",
          "output_type": "stream",
          "text": "0.7597295849471413\n<class 'float'>\n"
        }
      ]
    },
    {
      "metadata": {
        "trusted": false
      },
      "cell_type": "code",
      "source": "random_sqrt = np.sqrt(random_x)\nprint(random_sqrt.ndim)",
      "execution_count": 54,
      "outputs": [
        {
          "name": "stdout",
          "output_type": "stream",
          "text": "0\n"
        }
      ]
    },
    {
      "metadata": {
        "trusted": false
      },
      "cell_type": "code",
      "source": "random_power = np.power(random_x,random_sqrt)\nprint(random_power)",
      "execution_count": 4,
      "outputs": [
        {
          "name": "stdout",
          "output_type": "stream",
          "text": "0.787008590209\n"
        }
      ]
    },
    {
      "metadata": {
        "trusted": false
      },
      "cell_type": "code",
      "source": "array = np.random.random(3)\nprint(array)",
      "execution_count": 5,
      "outputs": [
        {
          "name": "stdout",
          "output_type": "stream",
          "text": "[ 0.32487712  0.28843253  0.90841025]\n"
        }
      ]
    },
    {
      "metadata": {
        "trusted": false
      },
      "cell_type": "code",
      "source": "array2 = np.array([1,2,3,4])\nprint(array2)\nprint(array2.ndim)",
      "execution_count": 53,
      "outputs": [
        {
          "name": "stdout",
          "output_type": "stream",
          "text": "[1 2 3 4]\n1\n"
        }
      ]
    },
    {
      "metadata": {
        "trusted": false
      },
      "cell_type": "code",
      "source": "matrix = np.array([[1,2],[3,4]])\nprint(matrix)",
      "execution_count": 7,
      "outputs": [
        {
          "name": "stdout",
          "output_type": "stream",
          "text": "[[1 2]\n [3 4]]\n"
        }
      ]
    },
    {
      "metadata": {},
      "cell_type": "markdown",
      "source": "Note that the level of nesting is the number of dimensions."
    },
    {
      "metadata": {
        "trusted": false
      },
      "cell_type": "code",
      "source": "print(type(matrix))\nprint(matrix.dtype)\nprint(matrix.shape)",
      "execution_count": 8,
      "outputs": [
        {
          "name": "stdout",
          "output_type": "stream",
          "text": "<class 'numpy.ndarray'>\nint64\n(2, 2)\n"
        }
      ]
    },
    {
      "metadata": {},
      "cell_type": "markdown",
      "source": "Note that the level of nesting is the number of dimensions."
    },
    {
      "metadata": {
        "trusted": false
      },
      "cell_type": "code",
      "source": "print(matrix.ndim)",
      "execution_count": 9,
      "outputs": [
        {
          "name": "stdout",
          "output_type": "stream",
          "text": "2\n"
        }
      ]
    },
    {
      "metadata": {
        "trusted": false
      },
      "cell_type": "code",
      "source": "print(np.sin(matrix))",
      "execution_count": 10,
      "outputs": [
        {
          "name": "stdout",
          "output_type": "stream",
          "text": "[[ 0.84147098  0.90929743]\n [ 0.14112001 -0.7568025 ]]\n"
        }
      ]
    },
    {
      "metadata": {},
      "cell_type": "markdown",
      "source": "#### Row-major and column-major order\nhttps://en.wikipedia.org/wiki/Row-_and_column-major_order"
    },
    {
      "metadata": {},
      "cell_type": "markdown",
      "source": "#### Chaining of functions"
    },
    {
      "metadata": {
        "trusted": false
      },
      "cell_type": "code",
      "source": "X = np.arange(20).reshape((4,5))\nprint(X)",
      "execution_count": 11,
      "outputs": [
        {
          "name": "stdout",
          "output_type": "stream",
          "text": "[[ 0  1  2  3  4]\n [ 5  6  7  8  9]\n [10 11 12 13 14]\n [15 16 17 18 19]]\n"
        }
      ]
    },
    {
      "metadata": {},
      "cell_type": "markdown",
      "source": "#### Exercise1:\nCreate a 3-dimensional nd-array cube Y, with 5 rows with 3 columns each and 2 faces. Record the output for Y[1][2][2]."
    },
    {
      "metadata": {
        "trusted": false
      },
      "cell_type": "code",
      "source": "#### Solution Exercise1\nY = np.arange(30).reshape((2,5,3))\nprint(Y)\nprint(Y.ndim)\nprint(Y.shape)\nprint(Y[1][2][2])",
      "execution_count": 63,
      "outputs": [
        {
          "name": "stdout",
          "output_type": "stream",
          "text": "[[[ 0  1  2]\n  [ 3  4  5]\n  [ 6  7  8]\n  [ 9 10 11]\n  [12 13 14]]\n\n [[15 16 17]\n  [18 19 20]\n  [21 22 23]\n  [24 25 26]\n  [27 28 29]]]\n3\n(2, 5, 3)\n23\n"
        }
      ]
    },
    {
      "metadata": {
        "trusted": false
      },
      "cell_type": "code",
      "source": "print(\"===== A ====\")\na=np.array([1,2,3])\nprint(a)\nprint(\"dimensions:\",str(a.ndim))\nprint(\"shape:\",str(a.shape))\nprint(\"===== B ====\")\nb=np.array([a, a])\nprint(b)\nprint(\"dimensions:\",str(b.ndim))\nprint(\"shape:\",str(b.shape))\nc=np.array([b,b])\nprint(\"===== C ====\")\nprint(c)\nprint(\"dimensions:\",str(c.ndim))\nprint(\"shape:\",str(c.shape))\nd=np.array([[[1,2],[1,2,3]]])\nprint(\"===== D ====\")\nprint(d)\nprint(\"dimensions:\",str(d.ndim))\nprint(\"shape:\",str(d.shape))",
      "execution_count": 13,
      "outputs": [
        {
          "name": "stdout",
          "output_type": "stream",
          "text": "===== A ====\n[1 2 3]\ndimensions: 1\nshape: (3,)\n===== B ====\n[[1 2 3]\n [1 2 3]]\ndimensions: 2\nshape: (2, 3)\n===== C ====\n[[[1 2 3]\n  [1 2 3]]\n\n [[1 2 3]\n  [1 2 3]]]\ndimensions: 3\nshape: (2, 2, 3)\n===== D ====\n[[[1, 2] [1, 2, 3]]]\ndimensions: 2\nshape: (1, 2)\n"
        }
      ]
    },
    {
      "metadata": {},
      "cell_type": "markdown",
      "source": "#### Array Indexing and slicing:"
    },
    {
      "metadata": {},
      "cell_type": "markdown",
      "source": "The general notation for slicing is:  \n&nbsp;&nbsp;&nbsp;&nbsp;&nbsp;    a[start:end]  \nwhere start is the begining of a slice and end is the end of the slice where the element at index is not included in slice."
    },
    {
      "metadata": {
        "trusted": false
      },
      "cell_type": "code",
      "source": "x = np.array([0,1,2,3,4,5,6])\nprint(x[:])    ## All the elements\nprint(x[1])    ## The second element\nprint(x[2:])   ## Everything from the third element\nprint(x[:2])   ## Everything till the third element\nprint(x[::2])   ## Every 2nd element\nprint(x[1:2])  ## Everything from second till the third element",
      "execution_count": 14,
      "outputs": [
        {
          "name": "stdout",
          "output_type": "stream",
          "text": "[0 1 2 3 4 5 6]\n1\n[2 3 4 5 6]\n[0 1]\n[0 2 4 6]\n[1]\n"
        }
      ]
    },
    {
      "metadata": {},
      "cell_type": "markdown",
      "source": "Let's check the slicing and dicing in two dimensions:"
    },
    {
      "metadata": {
        "trusted": false
      },
      "cell_type": "code",
      "source": "x2=np.array([[1,2],[3,4],[5,6],[7,8]])\nprint(x2)",
      "execution_count": 15,
      "outputs": [
        {
          "name": "stdout",
          "output_type": "stream",
          "text": "[[1 2]\n [3 4]\n [5 6]\n [7 8]]\n"
        }
      ]
    },
    {
      "metadata": {
        "trusted": false
      },
      "cell_type": "code",
      "source": "print(\"(x2[:] = \",x2[:])\nprint(\"(x2[1] = \",x2[1])\nprint(\"(x2[1,1] = \",x2[1,1])\nprint(\"(x2[:,1] = \",x2[:,1])\nprint(\"(x2[::2] = \",x2[::2,:])\nprint(\"(x2[1,:] = \",x2[1,:])\nprint(\"(x2[1:2,1:2] = \",x2[1:2,1:2])",
      "execution_count": 16,
      "outputs": [
        {
          "name": "stdout",
          "output_type": "stream",
          "text": "(x2[:] =  [[1 2]\n [3 4]\n [5 6]\n [7 8]]\n(x2[1] =  [3 4]\n(x2[1,1] =  4\n(x2[:,1] =  [2 4 6 8]\n(x2[::2] =  [[1 2]\n [5 6]]\n(x2[1,:] =  [3 4]\n(x2[1:2,1:2] =  [[4]]\n"
        }
      ]
    },
    {
      "metadata": {},
      "cell_type": "markdown",
      "source": "#### Numpy Data Types\nNumpy has wider set of data types than core python. Numpy has a dtype class which handles the representation of a data type. "
    },
    {
      "metadata": {
        "trusted": false
      },
      "cell_type": "code",
      "source": "print(x.dtype)",
      "execution_count": 17,
      "outputs": [
        {
          "name": "stdout",
          "output_type": "stream",
          "text": "int64\n"
        }
      ]
    },
    {
      "metadata": {
        "trusted": false
      },
      "cell_type": "code",
      "source": "print(x.dtype.type)\n#https://docs.scipy.org/doc/numpy-1.13.0/reference/arrays.dtypes.html",
      "execution_count": 18,
      "outputs": [
        {
          "name": "stdout",
          "output_type": "stream",
          "text": "<class 'numpy.int64'>\n"
        }
      ]
    },
    {
      "metadata": {},
      "cell_type": "markdown",
      "source": "Data type\tDescription  \nbool_\tBoolean (True or False) stored as a byte   \nint_\tDefault integer type (same as C long; normally either int64 or int32)  \nintc\tIdentical to C int (normally int32 or int64)  \nintp\tInteger used for indexing (same as C ssize_t; normally either int32 or int64)  \nint8\tByte (-128 to 127)  \nint16\tInteger (-32768 to 32767)  \nint32\tInteger (-2147483648 to 2147483647)  \nint64\tInteger (-9223372036854775808 to 9223372036854775807)  \nuint8\tUnsigned integer (0 to 255)   \nuint16\tUnsigned integer (0 to 65535)  \nuint32\tUnsigned integer (0 to 4294967295)   \nuint64\tUnsigned integer (0 to 18446744073709551615)  \nfloat_\tShorthand for float64.  \nfloat16\tHalf precision float: sign bit, 5 bits exponent, 10 bits mantissa  \nfloat32\tSingle precision float: sign bit, 8 bits exponent, 23 bits mantissa  \nfloat64\tDouble precision float: sign bit, 11 bits exponent, 52 bits mantissa  \ncomplex_\tShorthand for complex128.  \ncomplex64\tComplex number, represented by two 32-bit floats (real and imaginary components)  \ncomplex128\tComplex number, represented by two 64-bit floats (real and imaginary components)  "
    },
    {
      "metadata": {
        "collapsed": true,
        "trusted": false
      },
      "cell_type": "code",
      "source": "y = np.float64(1.0)",
      "execution_count": 64,
      "outputs": []
    },
    {
      "metadata": {
        "trusted": false
      },
      "cell_type": "code",
      "source": "print(y)",
      "execution_count": 65,
      "outputs": [
        {
          "name": "stdout",
          "output_type": "stream",
          "text": "1.0\n"
        }
      ]
    },
    {
      "metadata": {
        "trusted": false
      },
      "cell_type": "code",
      "source": "print(y.astype(int))   ",
      "execution_count": 21,
      "outputs": [
        {
          "name": "stdout",
          "output_type": "stream",
          "text": "1\n"
        }
      ]
    },
    {
      "metadata": {
        "trusted": false
      },
      "cell_type": "code",
      "source": "print(y.dtype.type)",
      "execution_count": 22,
      "outputs": [
        {
          "name": "stdout",
          "output_type": "stream",
          "text": "<class 'numpy.float32'>\n"
        }
      ]
    },
    {
      "metadata": {},
      "cell_type": "markdown",
      "source": "#### Creating custom data types with dtype class"
    },
    {
      "metadata": {
        "collapsed": true,
        "trusted": false
      },
      "cell_type": "code",
      "source": "dt = np.dtype([('name', np.unicode_, 16), ('grades', np.float64, (2,))])",
      "execution_count": 23,
      "outputs": []
    },
    {
      "metadata": {
        "collapsed": true,
        "trusted": false
      },
      "cell_type": "code",
      "source": "x = np.array([('Sarah', (8.0, 7.0)), ('John', (6.0, 7.0))], dtype=dt)",
      "execution_count": 24,
      "outputs": []
    },
    {
      "metadata": {
        "trusted": false
      },
      "cell_type": "code",
      "source": "print(x)",
      "execution_count": 25,
      "outputs": [
        {
          "name": "stdout",
          "output_type": "stream",
          "text": "[('Sarah', [8.0, 7.0]) ('John', [6.0, 7.0])]\n"
        }
      ]
    },
    {
      "metadata": {
        "trusted": false
      },
      "cell_type": "code",
      "source": "print(x.dtype)",
      "execution_count": 26,
      "outputs": [
        {
          "name": "stdout",
          "output_type": "stream",
          "text": "[('name', '<U16'), ('grades', '<f8', (2,))]\n"
        }
      ]
    },
    {
      "metadata": {
        "collapsed": true
      },
      "cell_type": "markdown",
      "source": "#### Numpy Operations:\nWhenever you perform any operation on numpy array, it get's applied to all the elements. This is called vectorized operations are used for performance enhancements.  \n"
    },
    {
      "metadata": {
        "collapsed": true,
        "trusted": false
      },
      "cell_type": "code",
      "source": "arr=[1,2,3,4]",
      "execution_count": 27,
      "outputs": []
    },
    {
      "metadata": {
        "collapsed": true,
        "trusted": false
      },
      "cell_type": "code",
      "source": "x=np.array(arr)",
      "execution_count": 28,
      "outputs": []
    },
    {
      "metadata": {
        "trusted": false
      },
      "cell_type": "code",
      "source": "print(arr*2)\nprint(x*2)",
      "execution_count": 29,
      "outputs": [
        {
          "name": "stdout",
          "output_type": "stream",
          "text": "[1, 2, 3, 4, 1, 2, 3, 4]\n[2 4 6 8]\n"
        }
      ]
    },
    {
      "metadata": {},
      "cell_type": "markdown",
      "source": "#### arange vs linspace"
    },
    {
      "metadata": {
        "trusted": false
      },
      "cell_type": "code",
      "source": "print(np.arange(10,100,5))\nprint(np.linspace(10,100,5,endpoint=False))",
      "execution_count": 66,
      "outputs": [
        {
          "name": "stdout",
          "output_type": "stream",
          "text": "[10 15 20 25 30 35 40 45 50 55 60 65 70 75 80 85 90 95]\n[ 10.  28.  46.  64.  82.]\n"
        }
      ]
    },
    {
      "metadata": {},
      "cell_type": "markdown",
      "source": "##### Exercise2: What happens if we do linspace with endpoint=False"
    },
    {
      "metadata": {},
      "cell_type": "markdown",
      "source": "#### Universal Functions (ufunc)\nUniversal Functions are compiled functions which operate on ndarrays. They are optimized for performance and are pre-built to handle multi-dimensional inputs. The complete list of ufunc's are at :  \n  https://docs.scipy.org/doc/numpy/reference/ufuncs.html  \n  Functions which takes one argument are called uniary ufuncs whereas which takes 2 arguments are called binary ufunc's.  "
    },
    {
      "metadata": {
        "trusted": false
      },
      "cell_type": "code",
      "source": "x = np.array([1,2,3])\nprint(np.square(x)) ## Square is a uniary ufunc",
      "execution_count": 31,
      "outputs": [
        {
          "name": "stdout",
          "output_type": "stream",
          "text": "[1 4 9]\n"
        }
      ]
    },
    {
      "metadata": {},
      "cell_type": "markdown",
      "source": "Functions which takes one argument are called uniary ufuncs whereas which takes 2 arguments are called binary ufunc's."
    },
    {
      "metadata": {
        "trusted": false
      },
      "cell_type": "code",
      "source": "y= np.array([1,2,3])\nprint(np.add(x,y)) ## add is a binary ufunc",
      "execution_count": 32,
      "outputs": [
        {
          "name": "stdout",
          "output_type": "stream",
          "text": "[2 4 6]\n"
        }
      ]
    },
    {
      "metadata": {},
      "cell_type": "markdown",
      "source": "#### Array Shapes and Broadcasting\nIn order to operate on multiple arrays, it is necessary that the shape of the arrays match. The simplest case while doing operation is where the input shapes matches."
    },
    {
      "metadata": {
        "trusted": false
      },
      "cell_type": "code",
      "source": "x=np.array([[1,1,1],[1,1,1]])\nprint(x)\nprint(x.shape)",
      "execution_count": 67,
      "outputs": [
        {
          "name": "stdout",
          "output_type": "stream",
          "text": "[[1 1 1]\n [1 1 1]]\n(2, 3)\n"
        }
      ]
    },
    {
      "metadata": {
        "trusted": false
      },
      "cell_type": "code",
      "source": "y=np.array([[2,2,2],[2,2,2]])\nprint(y)\nprint(y.shape)",
      "execution_count": 34,
      "outputs": [
        {
          "name": "stdout",
          "output_type": "stream",
          "text": "[[2 2 2]\n [2 2 2]]\n(2, 3)\n"
        }
      ]
    },
    {
      "metadata": {
        "trusted": false
      },
      "cell_type": "code",
      "source": "c = x + y\nprint(c)",
      "execution_count": 35,
      "outputs": [
        {
          "name": "stdout",
          "output_type": "stream",
          "text": "[[3 3 3]\n [3 3 3]]\n"
        }
      ]
    },
    {
      "metadata": {},
      "cell_type": "markdown",
      "source": "But what happens if x and y are not of same shape ?"
    },
    {
      "metadata": {
        "trusted": false
      },
      "cell_type": "code",
      "source": "z = np.array([[2,2,2]])\nprint(z)\nprint(z.shape)",
      "execution_count": 36,
      "outputs": [
        {
          "name": "stdout",
          "output_type": "stream",
          "text": "[[2 2 2]]\n(1, 3)\n"
        }
      ]
    },
    {
      "metadata": {
        "trusted": false
      },
      "cell_type": "code",
      "source": "print(x+z)",
      "execution_count": 37,
      "outputs": [
        {
          "name": "stdout",
          "output_type": "stream",
          "text": "[[3 3 3]\n [3 3 3]]\n"
        }
      ]
    },
    {
      "metadata": {},
      "cell_type": "markdown",
      "source": "How did numpy made the operation?   \nWhat happens under the hood is numpy will expand the dimension of z to match that of x and then perform the operation.  \nThis is called **broadcasting**. The term broadcasting describes how numpy treats arrays with different shapes during arithmetic operations. There are constraints under which python can perform broadcasting though, consider below example where we will reshape z to be of shape (1,2)"
    },
    {
      "metadata": {
        "trusted": false
      },
      "cell_type": "code",
      "source": "z = np.array([[2,2]])\nprint(z)\nprint(z.shape)",
      "execution_count": 68,
      "outputs": [
        {
          "name": "stdout",
          "output_type": "stream",
          "text": "[[2 2]]\n(1, 2)\n"
        }
      ]
    },
    {
      "metadata": {
        "trusted": false
      },
      "cell_type": "code",
      "source": "print(x+z)",
      "execution_count": 39,
      "outputs": [
        {
          "ename": "ValueError",
          "evalue": "operands could not be broadcast together with shapes (2,3) (1,2) ",
          "output_type": "error",
          "traceback": [
            "\u001b[0;31m---------------------------------------------------------------------------\u001b[0m",
            "\u001b[0;31mValueError\u001b[0m                                Traceback (most recent call last)",
            "\u001b[0;32m<ipython-input-39-c4cf213c356a>\u001b[0m in \u001b[0;36m<module>\u001b[0;34m()\u001b[0m\n\u001b[0;32m----> 1\u001b[0;31m \u001b[0mprint\u001b[0m\u001b[0;34m(\u001b[0m\u001b[0mx\u001b[0m\u001b[0;34m+\u001b[0m\u001b[0mz\u001b[0m\u001b[0;34m)\u001b[0m\u001b[0;34m\u001b[0m\u001b[0m\n\u001b[0m",
            "\u001b[0;31mValueError\u001b[0m: operands could not be broadcast together with shapes (2,3) (1,2) "
          ]
        }
      ]
    },
    {
      "metadata": {},
      "cell_type": "markdown",
      "source": "The rules where a variable can be broadcasted are:  \n    1) The arrays all have exactly the same shape.  \n    2) The arrays all have the same number of dimensions and the length of each dimensions is either a common length or 1.  \n    3)The arrays that have too few dimensions can have their shapes prepended with a dimension of length 1 to satisfy property 2.  \n    *source:*  https://docs.scipy.org/doc/numpy/reference/ufuncs.html  \n    https://docs.scipy.org/doc/numpy-1.13.0/user/basics.broadcasting.html"
    },
    {
      "metadata": {},
      "cell_type": "markdown",
      "source": "##### Reshaping numpy arrays:"
    },
    {
      "metadata": {
        "trusted": false
      },
      "cell_type": "code",
      "source": "x = np.arange(10)\nprint(x)",
      "execution_count": 40,
      "outputs": [
        {
          "name": "stdout",
          "output_type": "stream",
          "text": "[0 1 2 3 4 5 6 7 8 9]\n"
        }
      ]
    },
    {
      "metadata": {
        "trusted": false
      },
      "cell_type": "code",
      "source": "y = x.reshape(5,2)\nprint(y)",
      "execution_count": 41,
      "outputs": [
        {
          "name": "stdout",
          "output_type": "stream",
          "text": "[[0 1]\n [2 3]\n [4 5]\n [6 7]\n [8 9]]\n"
        }
      ]
    },
    {
      "metadata": {
        "trusted": false
      },
      "cell_type": "code",
      "source": "print(y.flatten())",
      "execution_count": 42,
      "outputs": [
        {
          "name": "stdout",
          "output_type": "stream",
          "text": "[0 1 2 3 4 5 6 7 8 9]\n"
        }
      ]
    },
    {
      "metadata": {},
      "cell_type": "markdown",
      "source": "#### Stacking arrays"
    },
    {
      "metadata": {
        "trusted": false
      },
      "cell_type": "code",
      "source": "x= np.arange(10)\ny= np.arange(10)\nz = np.vstack([x,y])\nprint(z)",
      "execution_count": 43,
      "outputs": [
        {
          "name": "stdout",
          "output_type": "stream",
          "text": "[[0 1 2 3 4 5 6 7 8 9]\n [0 1 2 3 4 5 6 7 8 9]]\n"
        }
      ]
    },
    {
      "metadata": {
        "trusted": false
      },
      "cell_type": "code",
      "source": "w = np.hstack([x,y])\nprint(w)",
      "execution_count": 44,
      "outputs": [
        {
          "name": "stdout",
          "output_type": "stream",
          "text": "[0 1 2 3 4 5 6 7 8 9 0 1 2 3 4 5 6 7 8 9]\n"
        }
      ]
    },
    {
      "metadata": {},
      "cell_type": "markdown",
      "source": "#### Boolean Masks"
    },
    {
      "metadata": {
        "trusted": false
      },
      "cell_type": "code",
      "source": "x= np.arange(10)\nprint(x)",
      "execution_count": 77,
      "outputs": [
        {
          "name": "stdout",
          "output_type": "stream",
          "text": "[0 1 2 3 4 5 6 7 8 9]\n"
        }
      ]
    },
    {
      "metadata": {
        "collapsed": true,
        "trusted": false
      },
      "cell_type": "code",
      "source": "mask = x % 2==0",
      "execution_count": 98,
      "outputs": []
    },
    {
      "metadata": {
        "trusted": false
      },
      "cell_type": "code",
      "source": "print(mask)",
      "execution_count": 99,
      "outputs": [
        {
          "name": "stdout",
          "output_type": "stream",
          "text": "[ True False  True False  True False  True False  True False]\n"
        }
      ]
    },
    {
      "metadata": {
        "trusted": false
      },
      "cell_type": "code",
      "source": "custom_mask = np.array([False, False, True, True ,True, False, True, True, False, True])",
      "execution_count": 93,
      "outputs": []
    },
    {
      "metadata": {
        "trusted": false
      },
      "cell_type": "code",
      "source": "print(x[custom_mask])",
      "execution_count": 94,
      "outputs": [
        {
          "name": "stdout",
          "output_type": "stream",
          "text": "[2 3 4 6 7 9]\n"
        }
      ]
    },
    {
      "metadata": {
        "collapsed": true
      },
      "cell_type": "markdown",
      "source": "#### Special functions"
    },
    {
      "metadata": {
        "trusted": false
      },
      "cell_type": "code",
      "source": "print(np.zeros((2,2)))",
      "execution_count": 49,
      "outputs": [
        {
          "name": "stdout",
          "output_type": "stream",
          "text": "[[ 0.  0.]\n [ 0.  0.]]\n"
        }
      ]
    },
    {
      "metadata": {
        "trusted": false
      },
      "cell_type": "code",
      "source": "print(np.identity(3))",
      "execution_count": 95,
      "outputs": [
        {
          "name": "stdout",
          "output_type": "stream",
          "text": "[[ 1.  0.  0.]\n [ 0.  1.  0.]\n [ 0.  0.  1.]]\n"
        }
      ]
    },
    {
      "metadata": {
        "trusted": false
      },
      "cell_type": "code",
      "source": "print(np.full((2,2),7,np.int))",
      "execution_count": 96,
      "outputs": [
        {
          "name": "stdout",
          "output_type": "stream",
          "text": "[[7 7]\n [7 7]]\n"
        }
      ]
    },
    {
      "metadata": {
        "trusted": false
      },
      "cell_type": "code",
      "source": "x = np.random.random(24)\nx = x.reshape(2,12)\ny2 = np.fft.fft2(x) \nprint(y2)",
      "execution_count": 52,
      "outputs": [
        {
          "name": "stdout",
          "output_type": "stream",
          "text": "[[ 11.34927065+0.j           0.62502230-1.15897746j\n   -0.71720271-1.67792659j  -0.82584532-1.27225311j\n    0.35555202-0.44042238j  -1.69791781+1.85115788j  -1.11161481+0.j\n   -1.69791781-1.85115788j   0.35555202+0.44042238j\n   -0.82584532+1.27225311j  -0.71720271+1.67792659j\n    0.62502230+1.15897746j]\n [ -0.71989738+0.j          -0.65437086+1.69465147j   1.09735847-0.5345378j\n    0.38755282-0.55964413j  -0.82931821-0.28507457j\n    0.76380984+0.20239301j  -0.98296748+0.j           0.76380984-0.20239301j\n   -0.82931821+0.28507457j   0.38755282+0.55964413j   1.09735847+0.5345378j\n   -0.65437086-1.69465147j]]\n"
        }
      ]
    }
  ],
  "metadata": {
    "kernelspec": {
      "name": "python36",
      "display_name": "Python 3.6",
      "language": "python"
    },
    "language_info": {
      "mimetype": "text/x-python",
      "nbconvert_exporter": "python",
      "name": "python",
      "pygments_lexer": "ipython3",
      "version": "3.6.6",
      "file_extension": ".py",
      "codemirror_mode": {
        "version": 3,
        "name": "ipython"
      }
    }
  },
  "nbformat": 4,
  "nbformat_minor": 2
}