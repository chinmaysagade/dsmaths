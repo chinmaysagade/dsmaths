{
 "cells": [
  {
   "cell_type": "markdown",
   "metadata": {},
   "source": [
    "#### Matrix-Vector Product"
   ]
  },
  {
   "cell_type": "markdown",
   "metadata": {},
   "source": [
    "Consider few rows from auto-mg dataset. The goal is to predict milage of a car based on the number of cylinders,horsepower and it's weight.  \n",
    "\n",
    "| cylinders | horsepower | weight |\n",
    "|----------|:-------------:|------:|\n",
    "| 4         | 130        | 2300   |\n",
    "| 4         | 200        | 3500   |\n",
    "| 6         | 113        | 2130   |\n",
    "| 8         | 100        | 3000   |"
   ]
  },
  {
   "cell_type": "markdown",
   "metadata": {},
   "source": [
    "Assume that after regression, we find out the weights of the attributes are -0.11, -0.02 and -0.001.In order to find out which combination has least mpg, you would multiply the features with the weights."
   ]
  },
  {
   "cell_type": "code",
   "execution_count": 5,
   "metadata": {},
   "outputs": [
    {
     "name": "stdout",
     "output_type": "stream",
     "text": [
      "[-28.74 -43.94 -25.39 -23.88]\n"
     ]
    }
   ],
   "source": [
    "import numpy as np\n",
    "A=np.array([[4,130,2300],[4,200,3500],[6,113,2130],[8,100,3000]])\n",
    "weights = np.array([-0.11,-0.2,-0.001])\n",
    "print(np.matmul(A,weights.T))"
   ]
  },
  {
   "cell_type": "code",
   "execution_count": null,
   "metadata": {
    "collapsed": true
   },
   "outputs": [],
   "source": []
  }
 ],
 "metadata": {
  "kernelspec": {
   "display_name": "Python 3",
   "language": "python",
   "name": "python3"
  },
  "language_info": {
   "codemirror_mode": {
    "name": "ipython",
    "version": 3
   },
   "file_extension": ".py",
   "mimetype": "text/x-python",
   "name": "python",
   "nbconvert_exporter": "python",
   "pygments_lexer": "ipython3",
   "version": "3.4.5"
  }
 },
 "nbformat": 4,
 "nbformat_minor": 2
}
